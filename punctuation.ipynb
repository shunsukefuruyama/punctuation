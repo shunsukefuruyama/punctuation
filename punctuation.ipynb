{
 "cells": [
  {
   "cell_type": "code",
   "execution_count": 30,
   "metadata": {
    "ExecuteTime": {
     "end_time": "2021-04-23T17:07:24.025180Z",
     "start_time": "2021-04-23T17:07:24.022171Z"
    }
   },
   "outputs": [],
   "source": [
    "import pandas as pd\n",
    "import re\n",
    "import numpy as np\n",
    "from nltk.tokenize import word_tokenize\n",
    "from torch.utils.data import TensorDataset, DataLoader, RandomSampler, SequentialSampler\n",
    "import torch\n",
    "from transformers import DistilBertTokenizer, DistilBertForTokenClassification"
   ]
  },
  {
   "cell_type": "code",
   "execution_count": 31,
   "metadata": {
    "ExecuteTime": {
     "end_time": "2021-04-23T17:07:26.641274Z",
     "start_time": "2021-04-23T17:07:24.367782Z"
    }
   },
   "outputs": [],
   "source": [
    "tokenizer = DistilBertTokenizer.from_pretrained('distilbert-base-uncased')"
   ]
  },
  {
   "cell_type": "code",
   "execution_count": 57,
   "metadata": {
    "ExecuteTime": {
     "end_time": "2021-04-23T17:21:13.242902Z",
     "start_time": "2021-04-23T17:21:12.198083Z"
    }
   },
   "outputs": [],
   "source": [
    "df = pd.read_csv(\"/home/ubuntu/Development/punctuation/transcripts.csv\")\n",
    "# len(df): 2467\n",
    "\n",
    "#num_train = int(len(df)*0.8)+2\n",
    "num_train = int(len(df)*0.01)+2\n",
    "\n",
    "num_val = int(len(df)*0.1)\n",
    "num_test = int(len(df)*0.1)\n",
    "\n",
    "id_all = np.random.choice(len(df), len(df), replace=False)\n",
    "id_train = id_all[0:num_train]\n",
    "id_val = id_all[num_train : num_val+num_train]\n",
    "id_test = id_all[num_val+num_train : num_val+num_train+num_test]\n",
    "\n",
    "train_set = df.iloc[id_train]\n",
    "val_set = df.iloc[id_val]\n",
    "test_set = df.iloc[id_test]\n",
    "\n",
    "train_set = train_set[~train_set['transcript'].str.contains('♫')]\n",
    "val_set = val_set[~val_set['transcript'].str.contains('♫')]\n",
    "test_set = test_set[~test_set['transcript'].str.contains('♫')]\n",
    "\n",
    "# Train Set Cleanup\n",
    "\n",
    "train_set = train_set.drop('url',axis=1)\n",
    "train_set = train_set['transcript']\n",
    "train_set = train_set.str.replace(\"\\(.*?\\)\", \" \")\\\n",
    ".str.replace(\"\\[.*?\\]\", \" \")\\\n",
    ".str.replace(\";\", \". \")\\\n",
    ".str.replace(\":\", \". \")\\\n",
    ".str.replace('\"', ' ')\\\n",
    ".str.replace('!', '. ')\\\n",
    ".str.replace(\" — (?=[a-z])\", \", \")\\\n",
    ".str.replace(\" — (?=[A-Z])\", \". \")\\\n",
    ".str.replace(\"(?<=[a-z])\\.(?=[A-Z])\", \". \")\\\n",
    ".str.replace(\"(?<=[a-z])\\?(?=[A-Z])\", \". \")\\\n",
    ".str.replace(\"(?<= )'(?=[a-zA-Z])\", \" \")\\\n",
    ".str.replace(\"(?<=[a-z])\\'(?= )\", \" \")\\\n",
    ".str.replace(\"\\'(?= )\", \" \")\\\n",
    ".str.replace(\" — \", \" \")\\\n",
    ".str.replace('\\.+', '.')\\\n",
    ".str.replace(' +', ' ')\\\n",
    ".str.lower()\n",
    "\n",
    "# one - on - one tutoring works best so that's what we tried to emulate like with me and my mom even though we knew it would be one - on - thousands \n",
    "\n",
    "\n",
    "temp_list_1 = []\n",
    "for sentences in train_set:\n",
    "    temp_list_1 += re.split('(?<=\\.)|(?<=\\?)',sentences)\n",
    "\n",
    "temp_list_2 = []\n",
    "for item in temp_list_1:\n",
    "    temp_list_2.append(re.sub('^ ','',item))\n",
    "    \n",
    "temp_list_3 = []\n",
    "for s in temp_list_2:\n",
    "    try:\n",
    "        if s[-1] == \".\":\n",
    "            temp_list_3.append(s)\n",
    "        elif s[-1] == \"?\":\n",
    "            temp_list_3.append(s)\n",
    "        else:\n",
    "            pass\n",
    "    except:\n",
    "        pass\n",
    "    \n",
    "del train_set\n",
    "del temp_list_1\n",
    "del temp_list_2\n",
    "\n",
    "total_words = 0\n",
    "combined_text = \"\"\n",
    "outer_list = []\n",
    "\n",
    "for s in temp_list_3:\n",
    "    if total_words + len(word_tokenize(s)) < 400:\n",
    "        combined_text += (s + \" \")\n",
    "        total_words += len(word_tokenize(s))\n",
    "    else:\n",
    "        outer_list.append(combined_text)\n",
    "        combined_text = \"\"\n",
    "        total_words = 0        \n",
    "        \n",
    "# outer_list is a list of sentences that don't go beyond 400 words"
   ]
  },
  {
   "cell_type": "code",
   "execution_count": 58,
   "metadata": {
    "ExecuteTime": {
     "end_time": "2021-04-23T17:21:18.081647Z",
     "start_time": "2021-04-23T17:21:13.244423Z"
    }
   },
   "outputs": [],
   "source": [
    "encoded_data_train = tokenizer.batch_encode_plus(outer_list, max_length=450, padding='max_length', truncation=True, return_tensors='pt')\n",
    "\n",
    "punc_mask_outer = []\n",
    "ids_no_punc_outer = []\n",
    "attention_mask_outer = []\n",
    "\n",
    "for j in range(len(encoded_data_train['input_ids'])):\n",
    "\n",
    "    # punctuation mask for sentences\n",
    "    punc_mask = []\n",
    "    for i in encoded_data_train['input_ids'][j]:\n",
    "        if i == 1012:\n",
    "            punc_mask.pop()\n",
    "            punc_mask.append(1) # period\n",
    "        elif i == 1029:\n",
    "            punc_mask.pop()\n",
    "            punc_mask.append(2) # question mark\n",
    "        elif i == 1010:\n",
    "            punc_mask.pop()\n",
    "            punc_mask.append(3) # comma\n",
    "        else:\n",
    "            punc_mask.append(0)\n",
    "    punc_mask_outer.append(torch.tensor(punc_mask))\n",
    "\n",
    "    # sentences converted to word ids excluding punctuations\n",
    "    # len(punc_mask) should be the same as len(ids_no_punc)\n",
    "    ids_no_punc = []\n",
    "    for i in encoded_data_train['input_ids'][j]:\n",
    "        if i == 1012:\n",
    "            pass\n",
    "        elif i == 1029:\n",
    "            pass\n",
    "        elif i == 1010:\n",
    "            pass\n",
    "        else:\n",
    "            ids_no_punc.append(i)\n",
    "    ids_no_punc_outer.append(torch.tensor(ids_no_punc))\n",
    "     \n",
    "    # attention_mask with subwords set to 0 except for the last one\n",
    "    attention_mask = []\n",
    "    first_hash = True\n",
    "    for i in encoded_data_train['input_ids'][j]:\n",
    "        if (i == 101 or i == 102 or i == 0): # CLS, SEP, PAD\n",
    "            attention_mask.append(0)\n",
    "        elif (i == 1029 or i == 1010 or i == 1012):\n",
    "            pass\n",
    "        else:\n",
    "            if re.match(r'^##', tokenizer.decode([i])):         \n",
    "                if first_hash == True:\n",
    "                    attention_mask.pop()\n",
    "                    attention_mask.append(0)\n",
    "                    first_hash == False\n",
    "                attention_mask.append(1)\n",
    "            else:\n",
    "                if first_hash == False:\n",
    "                    attention_mask.pop()\n",
    "                attention_mask.append(1)                \n",
    "    attention_mask_outer.append(torch.tensor(attention_mask))"
   ]
  },
  {
   "cell_type": "code",
   "execution_count": 59,
   "metadata": {
    "ExecuteTime": {
     "end_time": "2021-04-23T17:21:18.107440Z",
     "start_time": "2021-04-23T17:21:18.083405Z"
    }
   },
   "outputs": [],
   "source": [
    "token_lengths = []\n",
    "for i in range(len(punc_mask_outer)):\n",
    "    token_lengths.append(len(punc_mask_outer[i]))\n",
    "token_length_max = np.max(token_lengths)\n",
    "\n",
    "for i in range(len(punc_mask_outer)):\n",
    "    # add PAD again because length is not equal after removing punctuations\n",
    "    zeros = [0] * (token_length_max - len(punc_mask_outer[i]))\n",
    "        \n",
    "    punc_mask = torch.cat((punc_mask_outer[i], torch.tensor(zeros)), 0)\n",
    "    ids_no_punc = torch.cat((ids_no_punc_outer[i], torch.tensor(zeros)), 0)\n",
    "    attention_mask = torch.cat((attention_mask_outer[i], torch.tensor(zeros)), 0)\n",
    "  \n",
    "    if i != 0:\n",
    "        pass\n",
    "        punc_mask_outer_adjusted = torch.cat((punc_mask_outer_adjusted, punc_mask.view(1,-1)),0)\n",
    "        ids_no_punc_outer_adjusted = torch.cat((ids_no_punc_outer_adjusted, ids_no_punc.view(1,-1)),0)\n",
    "        attention_mask_outer_adjusted = torch.cat((attention_mask_outer_adjusted, attention_mask.view(1,-1)),0)\n",
    "    else:\n",
    "        punc_mask_outer_adjusted = punc_mask.view(1,-1)\n",
    "        ids_no_punc_outer_adjusted = ids_no_punc.view(1,-1)\n",
    "        attention_mask_outer_adjusted = attention_mask.view(1,-1)"
   ]
  },
  {
   "cell_type": "code",
   "execution_count": 98,
   "metadata": {
    "ExecuteTime": {
     "end_time": "2021-04-23T17:59:56.774560Z",
     "start_time": "2021-04-23T17:59:56.771613Z"
    }
   },
   "outputs": [],
   "source": [
    "dataset_train = TensorDataset(ids_no_punc_outer_adjusted, attention_mask_outer_adjusted, punc_mask_outer_adjusted)\n",
    "\n",
    "batch_size = 3\n",
    "dataloader_train = DataLoader(dataset_train, sampler=RandomSampler(dataset_train), batch_size=batch_size)"
   ]
  },
  {
   "cell_type": "code",
   "execution_count": 99,
   "metadata": {
    "ExecuteTime": {
     "end_time": "2021-04-23T17:59:57.082986Z",
     "start_time": "2021-04-23T17:59:57.080436Z"
    }
   },
   "outputs": [],
   "source": [
    "device = torch.device('cuda:0' if torch.cuda.is_available() else 'cpu')"
   ]
  },
  {
   "cell_type": "code",
   "execution_count": 100,
   "metadata": {
    "ExecuteTime": {
     "end_time": "2021-04-23T18:00:35.978821Z",
     "start_time": "2021-04-23T17:59:57.454603Z"
    },
    "scrolled": true
   },
   "outputs": [
    {
     "name": "stderr",
     "output_type": "stream",
     "text": [
      "Some weights of the model checkpoint at distilbert-base-uncased were not used when initializing DistilBertForTokenClassification: ['vocab_transform.weight', 'vocab_transform.bias', 'vocab_layer_norm.weight', 'vocab_layer_norm.bias', 'vocab_projector.weight', 'vocab_projector.bias']\n",
      "- This IS expected if you are initializing DistilBertForTokenClassification from the checkpoint of a model trained on another task or with another architecture (e.g. initializing a BertForSequenceClassification model from a BertForPreTraining model).\n",
      "- This IS NOT expected if you are initializing DistilBertForTokenClassification from the checkpoint of a model that you expect to be exactly identical (initializing a BertForSequenceClassification model from a BertForSequenceClassification model).\n",
      "Some weights of DistilBertForTokenClassification were not initialized from the model checkpoint at distilbert-base-uncased and are newly initialized: ['classifier.weight', 'classifier.bias']\n",
      "You should probably TRAIN this model on a down-stream task to be able to use it for predictions and inference.\n"
     ]
    },
    {
     "name": "stdout",
     "output_type": "stream",
     "text": [
      "epoch: 1, tr_loss: 0.591, tr_acc: 0.837, nume: 43799, deno: 52329\n",
      "epoch: 2, tr_loss: 0.496, tr_acc: 0.859, nume: 44932, deno: 52329\n",
      "epoch: 3, tr_loss: 0.445, tr_acc: 0.859, nume: 44932, deno: 52329\n",
      "epoch: 4, tr_loss: 0.395, tr_acc: 0.859, nume: 44962, deno: 52329\n"
     ]
    }
   ],
   "source": [
    "model = DistilBertForTokenClassification.from_pretrained(\"distilbert-base-uncased\",\n",
    "                                                    num_labels=4,  \n",
    "                                                    output_attentions=False,\n",
    "                                                    output_hidden_states=False)\n",
    "\n",
    "\n",
    "from transformers import AdamW, get_linear_schedule_with_warmup\n",
    "\n",
    "optimizer = AdamW(model.parameters(),\n",
    "                 lr=1e-5,\n",
    "                 eps=1e-8)\n",
    "\n",
    "epochs = 4\n",
    "#epochs = 3\n",
    "\n",
    "scheduler = get_linear_schedule_with_warmup(optimizer,\n",
    "                                           num_warmup_steps=0,\n",
    "                                           num_training_steps=len(dataloader_train)*epochs)\n",
    "\n",
    "\n",
    "\n",
    "for epoch in range(epochs):\n",
    "\n",
    "    nume = 0\n",
    "    deno = 0\n",
    "    loss_total = 0\n",
    "    \n",
    "    \n",
    "    for batch in dataloader_train:\n",
    "    \n",
    "        model.train()\n",
    "        model.zero_grad()\n",
    "        \n",
    "        batch = [b.to(device) for b in batch]\n",
    "        \n",
    "        model.to(device)\n",
    "    \n",
    "        inputs = {\n",
    "            'input_ids': batch[0].to(torch.long),\n",
    "            'attention_mask': batch[1].to(torch.long),\n",
    "            'labels': batch[2].to(torch.long)\n",
    "        }\n",
    "\n",
    "        outputs = model(**inputs)\n",
    "        \n",
    "        loss = outputs[0]\n",
    "        loss.backward()\n",
    "        optimizer.step()\n",
    "        scheduler.step()\n",
    "\n",
    "        model.eval()\n",
    "        \n",
    "        loss_total += loss\n",
    "\n",
    "        for j in range(outputs['logits'].shape[0]):\n",
    "        # for jth sample in a batch\n",
    "        \n",
    "            preds = np.argmax(outputs['logits'][j].to('cpu').detach().numpy(),axis=1)\n",
    "            labels = batch[2].to(torch.long)[j].to('cpu').detach().numpy()\n",
    "\n",
    "            # for ith token in a jth sample\n",
    "            # if attention mask is not 0, check if prediction matchs label\n",
    "            for i in range(len(batch[1][j])):\n",
    "                if batch[1][j][i] != 0:\n",
    "                    if preds[i] == labels[i]:\n",
    "                        nume += 1\n",
    "                    deno += 1\n",
    "\n",
    "#             print(preds.sum())\n",
    "\n",
    "    \n",
    "    loss = loss_total/len(dataloader_train)\n",
    "    acc = nume/deno\n",
    "        \n",
    "    print(f'epoch: {epoch+1}, tr_loss: {loss.item():.3f}, tr_acc: {acc:.3f}, nume: {nume}, deno: {deno}')"
   ]
  },
  {
   "cell_type": "code",
   "execution_count": null,
   "metadata": {},
   "outputs": [],
   "source": []
  },
  {
   "cell_type": "code",
   "execution_count": null,
   "metadata": {},
   "outputs": [],
   "source": []
  },
  {
   "cell_type": "code",
   "execution_count": null,
   "metadata": {},
   "outputs": [],
   "source": []
  },
  {
   "cell_type": "code",
   "execution_count": null,
   "metadata": {},
   "outputs": [],
   "source": []
  },
  {
   "cell_type": "code",
   "execution_count": null,
   "metadata": {},
   "outputs": [],
   "source": []
  },
  {
   "cell_type": "code",
   "execution_count": null,
   "metadata": {},
   "outputs": [],
   "source": []
  },
  {
   "cell_type": "code",
   "execution_count": null,
   "metadata": {},
   "outputs": [],
   "source": []
  },
  {
   "cell_type": "code",
   "execution_count": null,
   "metadata": {},
   "outputs": [],
   "source": []
  },
  {
   "cell_type": "code",
   "execution_count": null,
   "metadata": {},
   "outputs": [],
   "source": []
  },
  {
   "cell_type": "code",
   "execution_count": null,
   "metadata": {},
   "outputs": [],
   "source": []
  },
  {
   "cell_type": "code",
   "execution_count": null,
   "metadata": {},
   "outputs": [],
   "source": []
  },
  {
   "cell_type": "code",
   "execution_count": null,
   "metadata": {},
   "outputs": [],
   "source": []
  },
  {
   "cell_type": "code",
   "execution_count": null,
   "metadata": {},
   "outputs": [],
   "source": []
  },
  {
   "cell_type": "code",
   "execution_count": null,
   "metadata": {},
   "outputs": [],
   "source": []
  },
  {
   "cell_type": "code",
   "execution_count": null,
   "metadata": {},
   "outputs": [],
   "source": []
  },
  {
   "cell_type": "code",
   "execution_count": null,
   "metadata": {},
   "outputs": [],
   "source": []
  },
  {
   "cell_type": "code",
   "execution_count": null,
   "metadata": {},
   "outputs": [],
   "source": []
  },
  {
   "cell_type": "code",
   "execution_count": null,
   "metadata": {},
   "outputs": [],
   "source": []
  },
  {
   "cell_type": "code",
   "execution_count": null,
   "metadata": {},
   "outputs": [],
   "source": []
  }
 ],
 "metadata": {
  "kernelspec": {
   "display_name": "fluency",
   "language": "python",
   "name": "fluency"
  },
  "language_info": {
   "codemirror_mode": {
    "name": "ipython",
    "version": 3
   },
   "file_extension": ".py",
   "mimetype": "text/x-python",
   "name": "python",
   "nbconvert_exporter": "python",
   "pygments_lexer": "ipython3",
   "version": "3.7.6"
  },
  "toc": {
   "base_numbering": 1,
   "nav_menu": {},
   "number_sections": false,
   "sideBar": true,
   "skip_h1_title": false,
   "title_cell": "Table of Contents",
   "title_sidebar": "Contents",
   "toc_cell": false,
   "toc_position": {},
   "toc_section_display": true,
   "toc_window_display": false
  }
 },
 "nbformat": 4,
 "nbformat_minor": 4
}
